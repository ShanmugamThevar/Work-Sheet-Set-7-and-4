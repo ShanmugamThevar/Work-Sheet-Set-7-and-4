{
 "cells": [
  {
   "cell_type": "markdown",
   "metadata": {},
   "source": [
    "# Machine Learning "
   ]
  },
  {
   "cell_type": "markdown",
   "metadata": {},
   "source": [
    "1. Which of the following in sk-learn library is used for hyper parameter tuning?\n",
    "\n",
    "Ans. D) All of the above"
   ]
  },
  {
   "cell_type": "markdown",
   "metadata": {},
   "source": [
    "2. In which of the below ensemble techniques trees are trained in parallel?\n",
    "\n",
    "Ans. A) Random forest "
   ]
  },
  {
   "cell_type": "markdown",
   "metadata": {},
   "source": [
    "3. In machine learning, if in the below line of code:\n",
    " sklearn.svm.SVC (C=1.0, kernel='rbf', degree=3)\n",
    "we increasing the C hyper parameter, what will happen?\n",
    "\n",
    "Ans. C) No effect on regularization "
   ]
  },
  {
   "cell_type": "markdown",
   "metadata": {},
   "source": [
    "4. Check the below line of code and answer the following questions:\n",
    "sklearn.tree.DecisionTreeClassifier(*criterion='gini',splitter='best',max_depth=None,\n",
    "min_samples_split=2)\n",
    "Which of the following is true regarding max_depth hyper parameter?\n",
    "\n",
    "Ans. C) both A & B"
   ]
  },
  {
   "cell_type": "markdown",
   "metadata": {},
   "source": [
    "5. Which of the following is true regarding Random Forests?\n",
    "\n",
    "Ans. C) In case of classification problem, the prediction is made by taking mode of the class labels \n",
    "predicted by the component trees."
   ]
  },
  {
   "cell_type": "markdown",
   "metadata": {},
   "source": [
    "6. What can be the disadvantage if the learning rate is very high in gradient descent?\n",
    "\n",
    "Ans. D) None of them"
   ]
  },
  {
   "cell_type": "markdown",
   "metadata": {},
   "source": [
    "7. As the model complexity increases, what will happen?\n",
    "\n",
    "Ans. A) Bias will increase, Variance decrease "
   ]
  },
  {
   "cell_type": "markdown",
   "metadata": {},
   "source": [
    "8. Suppose I have a linear regression model which is performing as follows:\n",
    " Train accuracy=0.95 and Test accuracy=0.75\n",
    "Which of the following is true regarding the model?\n",
    "\n",
    "Ans. B) model is overfitting"
   ]
  },
  {
   "cell_type": "markdown",
   "metadata": {},
   "source": [
    "9. Suppose we have a dataset which have two classes A and B. The percentage of class A is 40% and \n",
    "percentage of class B is 60%. Calculate the Gini index and entropy of the dataset. \n",
    "\n",
    "Ans. "
   ]
  },
  {
   "cell_type": "markdown",
   "metadata": {},
   "source": [
    "10. What are the advantages of Random Forests over Decision Tree?\n",
    "\n",
    "Ans. Random Forest is a flexible, easy to use machine learning algorithm that produces great results most of the time with minimum time spent on hyper-parameter tuning. Random Forest is suitable for situations when we have a large dataset, and interpretability is not a major concern. Decision trees are much easier to interpret and understand. Since a random forest combines multiple decision trees, it becomes more difficult to interpret. "
   ]
  },
  {
   "cell_type": "markdown",
   "metadata": {},
   "source": [
    "11. What is the need of scaling all numerical features in a dataset? Name any two techniques used for \n",
    "scaling\n",
    "\n",
    "Ans. Scaling refers to putting the values in the same range so that no variable is dominated by the other.\n",
    "\n",
    "Dataset will contain features highly varying in magnitudes, units and range. The features with high magnitudes will weigh in a lot more in the distance calculations than features with low magnitudes. To suppress this effect, all feature needs to be in same level of magnitude which can be achieved by scaling.\n",
    "\n",
    "K-nearest neighbors and gradient descent are two techniques used for scaling."
   ]
  },
  {
   "cell_type": "markdown",
   "metadata": {},
   "source": [
    "12. Write down some advantages which scaling provides in optimization using gradient descent \n",
    "algorithm\n",
    "\n",
    "Ans. Gradient Descent is the most common optimization algorithm in machine learning and deep learning. It is a first-order optimization algorithm. This means it only takes into account the first derivative when performing the updates on the parameters. On each iteration, we update the parameters in the opposite direction of the gradient of the objective function J(w) w.r.t the parameters where the gradient gives the direction of the steepest ascent. The size of the step we take on each iteration to reach the local minimum is determined by the learning rate α. Therefore, we follow the direction of the slope downhill until we reach a local minimum."
   ]
  },
  {
   "cell_type": "markdown",
   "metadata": {},
   "source": [
    "13. In case of a highly imbalanced dataset for a classification problem, is accuracy a good metric to \n",
    "measure the performance of the model. If not, why?\n",
    "\n",
    "Ans. No, accuracy is not a good metric to measure performance in case of imbalanced dataset. \n",
    "\n",
    "Accuracy fails on classification problems with a skewed class distribution. classification predictive modeling is practiced with small datasets where the class distribution is equal or very close to equal. Therefore, we develop an intuition that large accuracy score or small error rate scores are good, and values above 90 percent are great. Achieving 90 percent classification accuracy, or even 99 percent classification accuracy, may be trivial on an imbalanced classification problem. This means that intuitions for classification accuracy developed on balanced class distributions will be applied and will be wrong, misleading us into thinking that a model has good or even excellent performance when it, in fact, does not."
   ]
  },
  {
   "cell_type": "markdown",
   "metadata": {},
   "source": [
    "14. What is “f-score\" metric? Write its mathematical formula.\n",
    "\n",
    "Ans. The F score is used to measure a test’s accuracy, and it balances the use of precision and recall to do it. The F score can provide a more realistic measure of a test’s performance by using both precision and recall. \n",
    "\n",
    "The formula for the standard F1-score is the harmonic mean of the precision and recall. A perfect model has an F-score of 1.\n",
    "\n",
    "F1= tp/(tp+1/2(fp+fn))"
   ]
  },
  {
   "cell_type": "markdown",
   "metadata": {},
   "source": [
    "15. What is the difference between fit(), transform() and fit_transform()?\n",
    "\n",
    "Ans. a) fit() means to fit the model to the data being provided. This is where the model \"learns\" from the data.\n",
    "\n",
    "b) transform() means to transform the data (produce model outputs) according to the fitted model.\n",
    "\n",
    "c) fit_transform() means to do both - Fit the model to the data, then transform the data according to the fitted model. "
   ]
  },
  {
   "cell_type": "code",
   "execution_count": null,
   "metadata": {},
   "outputs": [],
   "source": []
  },
  {
   "cell_type": "code",
   "execution_count": null,
   "metadata": {},
   "outputs": [],
   "source": []
  },
  {
   "cell_type": "markdown",
   "metadata": {},
   "source": [
    "# Statistics"
   ]
  },
  {
   "cell_type": "markdown",
   "metadata": {},
   "source": [
    "1. A die is thrown 1402 times. The frequencies for the outcomes 1, 2, 3, 4, 5 and 6 are given in the following \n",
    "table: \n",
    "    \n",
    "Ans. b) 0.135"
   ]
  },
  {
   "cell_type": "markdown",
   "metadata": {},
   "source": [
    "2. A telephone directory page has 400 telephone numbers. The frequency distribution of their unit place digit (for \n",
    "example, in the number 25827689, the unit place digit is 9 is given in table below: \n",
    "First row refers to the digits \n",
    "Second row to their frequencies\n",
    "\n",
    "Ans. d) 0.53 "
   ]
  },
  {
   "cell_type": "markdown",
   "metadata": {},
   "source": [
    "3. A tyre manufacturing company which keeps a record of the distance covered before a tyre needed to be \n",
    "replaced. The table below shows the results of 1100 cases. \n",
    "\n",
    "Ans. c) 0.745"
   ]
  },
  {
   "cell_type": "markdown",
   "metadata": {},
   "source": [
    "4. Please refer to the case and table given in the question No. 3 and determine what is the probability that if we buy \n",
    "a new tyre then it will last in the interval [4000-14000] miles? \n",
    "\n",
    "Ans. b) 0.577 "
   ]
  },
  {
   "cell_type": "markdown",
   "metadata": {},
   "source": [
    "5. We have a box containing cards numbered from 0 to 9. We draw a card randomly from the box. If it is told to \n",
    "you that the card drawn is greater than 4 what is the probability that the card is odd? \n",
    "\n",
    "Ans. c) 0.6"
   ]
  },
  {
   "cell_type": "markdown",
   "metadata": {},
   "source": [
    "6. We have a box containing cards numbered from 1 to 8. We draw a card randomly from the box. If it is told to \n",
    "you that the card drawn is less than 4 what is the probability that the card is even? \n",
    "\n",
    "Ans. a) 0.33"
   ]
  },
  {
   "cell_type": "markdown",
   "metadata": {},
   "source": [
    "7. A die is thrown twice and the sum of the numbers appearing is observed to be 7. What is the conditional \n",
    "probability that the number 6 has appeared at least on one of the die? \n",
    "\n",
    "Ans. c) 0.33 "
   ]
  },
  {
   "cell_type": "markdown",
   "metadata": {},
   "source": [
    "8. Consider the experiment of tossing a coin. If the coin shows tail, toss it again but if it shows head, then throw a \n",
    "die. Find the conditional probability of the event that ‘the die shows a number greater than 4’ given that ‘there is \n",
    "at least one Head’. \n",
    "\n",
    "Ans. b) 0.22 "
   ]
  },
  {
   "cell_type": "markdown",
   "metadata": {},
   "source": [
    "9. There are three persons Evan, Ross and Michelle. These people lined up randomly for a picture. What is the \n",
    "probability of Ross being at one of the ends of the line? \n",
    "\n",
    "Ans. a) 0.66"
   ]
  },
  {
   "cell_type": "markdown",
   "metadata": {},
   "source": [
    "10. Let us make an assumption that each born child is equally likely to be a boy or a girl. Now suppose, if a family \n",
    "has two children, what is the conditional probability that both are girls given that at least one of them is a girl?\n",
    "\n",
    "Ans. a) 0.33 "
   ]
  },
  {
   "cell_type": "markdown",
   "metadata": {},
   "source": [
    "11. Consider the same case as in the question no. 10. It is given that elder child is a boy. What is the conditional \n",
    "probability that both children are boys? \n",
    " \n",
    "Ans. c) 0.5 "
   ]
  },
  {
   "cell_type": "markdown",
   "metadata": {},
   "source": [
    "12. We toss a coin. If we get head, we toss a coin again and if we get tail we throw a die. What is the probability of \n",
    "getting a number greater than 4 on die? \n",
    "\n",
    "Ans. a) 0.166 "
   ]
  },
  {
   "cell_type": "markdown",
   "metadata": {},
   "source": [
    "13. We toss a coin. If we get head, we toss a coin again and if we get tail we throw a die. What is the probability of \n",
    "getting an odd number on die? \n",
    "\n",
    "Ans. d) 0.25 "
   ]
  },
  {
   "cell_type": "markdown",
   "metadata": {},
   "source": [
    "14. Suppose we throw two dice together. What is the conditional probability of getting sum of two numbers found on \n",
    "the two die after throwing is less than 4, provided that the two numbers found on the two die are different?\n",
    "\n",
    "Ans. a) 0.3 "
   ]
  },
  {
   "cell_type": "markdown",
   "metadata": {},
   "source": [
    "15. A box contains three coins: two regular coins and one fake two-headed coin, you pick a coin at random and toss \n",
    "it. What is the probability that it lands heads up? \n",
    "\n",
    "Ans. a) 1/3 "
   ]
  },
  {
   "cell_type": "code",
   "execution_count": null,
   "metadata": {},
   "outputs": [],
   "source": []
  },
  {
   "cell_type": "code",
   "execution_count": null,
   "metadata": {},
   "outputs": [],
   "source": []
  },
  {
   "cell_type": "markdown",
   "metadata": {},
   "source": [
    "# SQL"
   ]
  },
  {
   "cell_type": "markdown",
   "metadata": {},
   "source": [
    "1. The primary key is selected from the\n",
    "\n",
    "Ans. B. Candidate keys"
   ]
  },
  {
   "cell_type": "markdown",
   "metadata": {},
   "source": [
    "2. Which is/are correct statements about primary key of a table?\n",
    "\n",
    "Ans. B. Primary keys cannot contain NULL values… and \n",
    "C. A table can have only one primary key with single or multiple fields…."
   ]
  },
  {
   "cell_type": "markdown",
   "metadata": {},
   "source": [
    "3. Which SQL command is used to insert a row in a table?\n",
    "\n",
    "Ans. C. Insert"
   ]
  },
  {
   "cell_type": "markdown",
   "metadata": {},
   "source": [
    "4. Which one of the following sorts rows in SQL?\n",
    "\n",
    "Ans. C. ORDERBY"
   ]
  },
  {
   "cell_type": "markdown",
   "metadata": {},
   "source": [
    "5. The SQL statement that queries or reads data from a table is\n",
    "\n",
    "Ans. C. SELECT"
   ]
  },
  {
   "cell_type": "markdown",
   "metadata": {},
   "source": [
    "6. Which normal form is considered adequate for relational database design?\n",
    "\n",
    "Ans. C. 3NF"
   ]
  },
  {
   "cell_type": "markdown",
   "metadata": {},
   "source": [
    "7. SQL can be used to\n",
    "\n",
    "Ans. C. All of the above can be done by SQL"
   ]
  },
  {
   "cell_type": "markdown",
   "metadata": {},
   "source": [
    "8. SQL query and modification commands make up\n",
    "\n",
    "Ans. B. DML"
   ]
  },
  {
   "cell_type": "markdown",
   "metadata": {},
   "source": [
    "9. The result of a SQL SELECT statement is a(n).\n",
    "\n",
    "Ans. B. Table"
   ]
  },
  {
   "cell_type": "markdown",
   "metadata": {},
   "source": [
    "10. Second normal form should meet all the rules for\n",
    "\n",
    "Ans. A. 1 NF"
   ]
  },
  {
   "cell_type": "markdown",
   "metadata": {},
   "source": [
    "11. What are joins in SQL?\n",
    "\n",
    "Ans. A JOIN in SQL is used to combine rows from two or more tables, based on a related column between them."
   ]
  },
  {
   "cell_type": "markdown",
   "metadata": {},
   "source": [
    "12. What are the different types of joins in SQL?\n",
    "\n",
    "Ans. The different types of the JOINs in SQL are\n",
    "\n",
    "1. (INNER) JOIN: Returns records that have matching values in both tables\n",
    "2. LEFT (OUTER) JOIN: Returns all records from the left table, and the matched records from the right table\n",
    "3. RIGHT (OUTER) JOIN: Returns all records from the right table, and the matched records from the left table\n",
    "4. FULL (OUTER) JOIN: Returns all records when there is a match in either left or right table"
   ]
  },
  {
   "cell_type": "markdown",
   "metadata": {},
   "source": [
    "13. What is SQL Server?\n",
    "\n",
    "Ans. SQL server is a software, developed by Microsoft, which is implemented from the specification of RDBMS. It is also an ORDBMS. It is platform dependent and is both GUI and command based software. It supports SQL (SEQUEL) language which is an IBM product, non-procedural, common database and case insensitive language."
   ]
  },
  {
   "cell_type": "markdown",
   "metadata": {},
   "source": [
    "14. What is primary key in SQL?\n",
    "\n",
    "Ans. A primary key is a field in a table which uniquely identifies each row/record in a database table. Primary keys must contain unique values. A primary key column cannot have NULL values. A table can have only one primary key, which may consist of single or multiple fields."
   ]
  },
  {
   "cell_type": "markdown",
   "metadata": {},
   "source": [
    "15. What is ETL in SQL?\n",
    "\n",
    "Ans. In SQL, ETL stands for Extract, Transform and Load and it provides a method of moving the data from various sources into a data warehouse."
   ]
  },
  {
   "cell_type": "code",
   "execution_count": null,
   "metadata": {},
   "outputs": [],
   "source": []
  }
 ],
 "metadata": {
  "kernelspec": {
   "display_name": "Python 3",
   "language": "python",
   "name": "python3"
  },
  "language_info": {
   "codemirror_mode": {
    "name": "ipython",
    "version": 3
   },
   "file_extension": ".py",
   "mimetype": "text/x-python",
   "name": "python",
   "nbconvert_exporter": "python",
   "pygments_lexer": "ipython3",
   "version": "3.8.5"
  }
 },
 "nbformat": 4,
 "nbformat_minor": 4
}
